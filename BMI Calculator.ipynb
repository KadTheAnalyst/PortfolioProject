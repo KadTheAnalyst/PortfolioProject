{
 "cells": [
  {
   "cell_type": "code",
   "execution_count": 11,
   "id": "2c6587d1-2d4d-43e5-87fb-a929fb40754f",
   "metadata": {},
   "outputs": [
    {
     "name": "stdin",
     "output_type": "stream",
     "text": [
      "What is your name? Sam\n",
      "Enter your weight in pounds:  170\n",
      "Enter your height in inches:  69\n"
     ]
    },
    {
     "name": "stdout",
     "output_type": "stream",
     "text": [
      "Sam , your BMI is :  25.101869355177485\n",
      "Sam , you are overweight! You need to exercise more!\n"
     ]
    }
   ],
   "source": [
    "name = input(\"What is your name?\")\n",
    "weight = int(input(\"Enter your weight in pounds: \"))\n",
    "height = int(input(\"Enter your height in inches: \"))\n",
    "BMI = (weight * 703) / (height * height)\n",
    "print(name , \", your BMI is : \" , BMI)\n",
    "\n",
    "if BMI > 0:\n",
    "    if (BMI <18.5):\n",
    "        print(name , \", you are underweight!\")\n",
    "    elif (BMI <=24.9):\n",
    "        print(name , \", you are normal weight!\")\n",
    "    elif (BMI <29.9):\n",
    "        print(name , \", you are overweight! You need to exercise more!\")\n",
    "    elif (BMI <34.9):\n",
    "        print(name , \", you are obese!  You need to exercise more!\")\n",
    "    elif (BMI <39.9):\n",
    "        print(name , \", you are severly obese!  You need to exercise more!\")\n",
    "    else:\n",
    "        print(name , \", you are morbidly obese!  You need to exercise more!\")"
   ]
  },
  {
   "cell_type": "code",
   "execution_count": null,
   "id": "5e18d57f-2282-4bcb-943b-42d3b5de4b2f",
   "metadata": {},
   "outputs": [],
   "source": [
    "BMI = (weight * 703 / (height * height)"
   ]
  },
  {
   "cell_type": "code",
   "execution_count": 9,
   "id": "5218c9e2-1866-4039-b8fa-f12fc238208c",
   "metadata": {},
   "outputs": [
    {
     "name": "stdout",
     "output_type": "stream",
     "text": [
      "Saurav , you are overweight!\n"
     ]
    }
   ],
   "source": []
  },
  {
   "cell_type": "code",
   "execution_count": null,
   "id": "33ee0bab-ab44-4743-84b1-37b986f6d773",
   "metadata": {},
   "outputs": [],
   "source": []
  },
  {
   "cell_type": "code",
   "execution_count": null,
   "id": "fe1cba80-c182-4aa0-9f6b-1dc9c59025a5",
   "metadata": {},
   "outputs": [],
   "source": []
  }
 ],
 "metadata": {
  "kernelspec": {
   "display_name": "Python 3 (ipykernel)",
   "language": "python",
   "name": "python3"
  },
  "language_info": {
   "codemirror_mode": {
    "name": "ipython",
    "version": 3
   },
   "file_extension": ".py",
   "mimetype": "text/x-python",
   "name": "python",
   "nbconvert_exporter": "python",
   "pygments_lexer": "ipython3",
   "version": "3.11.7"
  }
 },
 "nbformat": 4,
 "nbformat_minor": 5
}
