{
 "cells": [
  {
   "cell_type": "code",
   "execution_count": 51,
   "id": "55f98c4c-303b-43a2-8de4-3c89e9e84535",
   "metadata": {},
   "outputs": [],
   "source": [
    "import os, shutil\n",
    "path = r\"C:\\Users\\Saurav\\OneDrive\\Desktop\\filesorts\\\\\""
   ]
  },
  {
   "cell_type": "code",
   "execution_count": 57,
   "id": "41a9a9bf-105a-4ec5-9584-ef771f47dcd4",
   "metadata": {},
   "outputs": [],
   "source": [
    "files = os.listdir(path)"
   ]
  },
  {
   "cell_type": "code",
   "execution_count": 54,
   "id": "cca96295-cf36-4e26-954a-2617bf0aeeeb",
   "metadata": {},
   "outputs": [
    {
     "data": {
      "text/plain": [
       "False"
      ]
     },
     "execution_count": 54,
     "metadata": {},
     "output_type": "execute_result"
    }
   ],
   "source": [
    "os.path.exists(path + 'csv files')"
   ]
  },
  {
   "cell_type": "code",
   "execution_count": 55,
   "id": "c028cec9-84ae-476d-865b-cb35b45dd603",
   "metadata": {},
   "outputs": [
    {
     "name": "stdout",
     "output_type": "stream",
     "text": [
      "C:\\Users\\Saurav\\OneDrive\\Desktop\\filesorts\\\\csv files\n",
      "C:\\Users\\Saurav\\OneDrive\\Desktop\\filesorts\\\\image files\n",
      "C:\\Users\\Saurav\\OneDrive\\Desktop\\filesorts\\\\text files\n"
     ]
    }
   ],
   "source": [
    "names=['csv files', 'image files', 'text files']\n",
    "for loop in range(0,3):\n",
    "    if not os.path.exists(path + names[loop]):\n",
    "       # print(path + names[loop])\n",
    "        os.makedirs(path + names[loop])"
   ]
  },
  {
   "cell_type": "code",
   "execution_count": 60,
   "id": "043fdc80-c28a-4f0f-9370-ab9321f3125b",
   "metadata": {},
   "outputs": [
    {
     "name": "stdout",
     "output_type": "stream",
     "text": [
      "THERE ARE FILES IN THIS PATH THAT WERE NOT MOVED\n",
      "THERE ARE FILES IN THIS PATH THAT WERE NOT MOVED\n",
      "THERE ARE FILES IN THIS PATH THAT WERE NOT MOVED\n",
      "THERE ARE FILES IN THIS PATH THAT WERE NOT MOVED\n",
      "THERE ARE FILES IN THIS PATH THAT WERE NOT MOVED\n",
      "THERE ARE FILES IN THIS PATH THAT WERE NOT MOVED\n"
     ]
    }
   ],
   "source": [
    "for file in files:\n",
    "    if \".csv\" in file and not os.path.exists(path + \"csv files\\\\\" + file):\n",
    "        shutil.move(path + file, path + \"csv files\\\\\" + file)\n",
    "    elif \".jpg\" in file and not os.path.exists(path + \"image files\\\\\" + file):\n",
    "        shutil.move(path + file, path + \"image files\\\\\" + file)\n",
    "    elif \".txt\" in file and not os.path.exists(path + \"text files\\\\\" + file):\n",
    "        shutil.move(path + file, path + \"text files\\\\\" + file)\n",
    "    else:\n",
    "        print(\"THERE ARE FILES IN THIS PATH THAT WERE NOT MOVED\")"
   ]
  },
  {
   "cell_type": "code",
   "execution_count": null,
   "id": "86826361-d0ac-4ff1-92fa-49257d1716e5",
   "metadata": {},
   "outputs": [],
   "source": []
  }
 ],
 "metadata": {
  "kernelspec": {
   "display_name": "Python 3 (ipykernel)",
   "language": "python",
   "name": "python3"
  },
  "language_info": {
   "codemirror_mode": {
    "name": "ipython",
    "version": 3
   },
   "file_extension": ".py",
   "mimetype": "text/x-python",
   "name": "python",
   "nbconvert_exporter": "python",
   "pygments_lexer": "ipython3",
   "version": "3.11.7"
  }
 },
 "nbformat": 4,
 "nbformat_minor": 5
}
